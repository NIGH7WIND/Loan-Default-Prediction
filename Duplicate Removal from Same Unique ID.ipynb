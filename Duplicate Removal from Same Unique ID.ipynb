{
 "cells": [
  {
   "cell_type": "code",
   "execution_count": 3,
   "id": "91671658",
   "metadata": {},
   "outputs": [],
   "source": [
    "# Function to give the columns with different non values for same UniqueID"
   ]
  },
  {
   "cell_type": "code",
   "execution_count": 4,
   "id": "85d1f284",
   "metadata": {},
   "outputs": [],
   "source": [
    "# Function to check for columns with different non-null values\n",
    "def diffColsCheck(UniqueID,df):\n",
    "    # Group by UniqueID\n",
    "    grouped = df.groupby(UniqueID)\n",
    "    columns_with_different_values = []\n",
    "\n",
    "    for column in df.columns:\n",
    "        # storing the non values as pandas series in non_null_values\n",
    "        non_null_values = grouped[column].nunique()\n",
    "        # checking if any of the values in the series has value greater than(gt) 1 and adding column if True\n",
    "        if non_null_values.gt(1).any():\n",
    "            columns_with_different_values.append(column)\n",
    "\n",
    "    # Return the columns with different non-null values for the same UniqueID\n",
    "    return columns_with_different_values"
   ]
  },
  {
   "cell_type": "code",
   "execution_count": 5,
   "id": "26715c0e",
   "metadata": {},
   "outputs": [],
   "source": [
    "# Function to update the mode values of columns in the duplicate rows of each UniqueID "
   ]
  },
  {
   "cell_type": "code",
   "execution_count": 8,
   "id": "70c299a2",
   "metadata": {},
   "outputs": [],
   "source": [
    "# Function to update all the duplicate rows of a UniqueID with the mode value of its columns \n",
    "def updateDuplicates(UniqueID,df,columns):\n",
    "    # Group the df by UniqueID\n",
    "    grouped=df.groupby(UniqueID)\n",
    "    # Loop through each column with different non null values\n",
    "    for column in columns:\n",
    "        # initialise dictionary to store the mode_val of each column for each UniqueID\n",
    "        d={}\n",
    "        # Loop through each group in grouped \n",
    "        for id_val,group_df in grouped:\n",
    "            # store the mode as pandas series object in mode_val\n",
    "            mode_val=group_df[column].mode()\n",
    "            # check if the series is not empty\n",
    "            if not mode_val.empty:\n",
    "                # update dictionary with the mode val for current column in its UniqueID\n",
    "                d[id_val]=mode_val[0]\n",
    "        # Update all the rows with the corresponding mode val\n",
    "        df[column]=df[UniqueID].map(d)"
   ]
  },
  {
   "cell_type": "code",
   "execution_count": null,
   "id": "06c7f493",
   "metadata": {},
   "outputs": [],
   "source": []
  }
 ],
 "metadata": {
  "kernelspec": {
   "display_name": "Python 3 (ipykernel)",
   "language": "python",
   "name": "python3"
  },
  "language_info": {
   "codemirror_mode": {
    "name": "ipython",
    "version": 3
   },
   "file_extension": ".py",
   "mimetype": "text/x-python",
   "name": "python",
   "nbconvert_exporter": "python",
   "pygments_lexer": "ipython3",
   "version": "3.10.9"
  }
 },
 "nbformat": 4,
 "nbformat_minor": 5
}
